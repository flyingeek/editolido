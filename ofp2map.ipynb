{
 "cells": [
  {
   "cell_type": "code",
   "execution_count": 85,
   "metadata": {
    "collapsed": true
   },
   "outputs": [],
   "source": [
    "\n",
    "import numpy as np\n",
    "# import matplotlib.pyplot as plt\n",
    "# import plotly.express as px\n",
    "import plotly.graph_objects as go"
   ]
  },
  {
   "cell_type": "code",
   "execution_count": 86,
   "outputs": [],
   "source": [
    "N = 100000\n",
    "n_stations = 150"
   ],
   "metadata": {
    "collapsed": false,
    "pycharm": {
     "name": "#%%\n"
    }
   }
  },
  {
   "cell_type": "code",
   "execution_count": 87,
   "outputs": [],
   "source": [
    "np.random.seed(34)"
   ],
   "metadata": {
    "collapsed": false,
    "pycharm": {
     "name": "#%%\n"
    }
   }
  },
  {
   "cell_type": "code",
   "execution_count": 88,
   "outputs": [],
   "source": [
    "stations = np.random.uniform(low= 0, high=N, size=(n_stations, 2))\n"
   ],
   "metadata": {
    "collapsed": false,
    "pycharm": {
     "name": "#%%\n"
    }
   }
  },
  {
   "cell_type": "code",
   "execution_count": 89,
   "outputs": [],
   "source": [
    "plane_route = np.array([[x,int(0.3 * x)] for x in range(0,int(N/2),1000 )] + [[x, x - int(0.7 * N/2)] for x in range(int(N/2),N+1,1000 )])"
   ],
   "metadata": {
    "collapsed": false,
    "pycharm": {
     "name": "#%%\n"
    }
   }
  },
  {
   "cell_type": "code",
   "execution_count": 90,
   "outputs": [],
   "source": [
    "def find_closest_point(point, stations):\n",
    "    d = np.linalg.norm(stations - point, axis=1)\n",
    "    return np.argmin(d)"
   ],
   "metadata": {
    "collapsed": false,
    "pycharm": {
     "name": "#%%\n"
    }
   }
  },
  {
   "cell_type": "code",
   "execution_count": 91,
   "outputs": [],
   "source": [
    "def closest_path(route, stations):\n",
    "    res = [stations[find_closest_point(p, stations), :] for p in route]\n",
    "    return res"
   ],
   "metadata": {
    "collapsed": false,
    "pycharm": {
     "name": "#%%\n"
    }
   }
  },
  {
   "cell_type": "code",
   "execution_count": 92,
   "outputs": [],
   "source": [
    "path_long = np.array(closest_path(plane_route, stations))\n",
    "path = np.unique(path_long, axis=0)\n"
   ],
   "metadata": {
    "collapsed": false,
    "pycharm": {
     "name": "#%%\n"
    }
   }
  },
  {
   "cell_type": "code",
   "execution_count": 93,
   "outputs": [],
   "source": [
    "from scipy.spatial.distance import cosine\n"
   ],
   "metadata": {
    "collapsed": false,
    "pycharm": {
     "name": "#%%\n"
    }
   }
  },
  {
   "cell_type": "code",
   "execution_count": 94,
   "outputs": [],
   "source": [
    "def compute_penalty(path):\n",
    "    return sum([cosine(path[i+1]-path[i], path[i]- path[i-1]) for i in range(1,len(path)-1)])\n",
    "\n"
   ],
   "metadata": {
    "collapsed": false,
    "pycharm": {
     "name": "#%%\n"
    }
   }
  },
  {
   "cell_type": "code",
   "execution_count": 95,
   "outputs": [],
   "source": [
    "def compute_distances(path, route):\n",
    "    return np.array([np.linalg.norm(path-r,axis=1)**2 for r in route])\n",
    "distances = compute_distances(path, plane_route)\n",
    "distance_dict = {i:min(distances[:, i]) for i in range(len(path))}"
   ],
   "metadata": {
    "collapsed": false,
    "pycharm": {
     "name": "#%%\n"
    }
   }
  },
  {
   "cell_type": "code",
   "execution_count": 96,
   "outputs": [],
   "source": [
    "filter_indices = [np.argmin(distances[:, i]) for i in range(len(path))]\n",
    "plane_route_meteo = np.take(plane_route, filter_indices, axis=0)"
   ],
   "metadata": {
    "collapsed": false,
    "pycharm": {
     "name": "#%%\n"
    }
   }
  },
  {
   "cell_type": "code",
   "execution_count": 97,
   "outputs": [
    {
     "name": "stdout",
     "output_type": "stream",
     "text": [
      "8\n"
     ]
    }
   ],
   "source": [
    "from collections import namedtuple\n",
    "import math\n",
    "Result = namedtuple('Result', ['fpl', 'ogimet'])\n",
    "\n",
    "class Point(object):\n",
    "    def __init__(self, value, name=None):\n",
    "        self.value = value\n",
    "        if name is None:\n",
    "            self.name = '{0}_{1}'.format(*value)\n",
    "        else:\n",
    "            self.name = name\n",
    "        self.x = value[0]\n",
    "        self.y = value[1]\n",
    "    def xtd_to(self, segment):\n",
    "        \"\"\"\n",
    "        Given the segment AB, computes cross track error\n",
    "        :param segment: (Point, Point) the segment AB\n",
    "        :return: float the cross track error\n",
    "        \"\"\"\n",
    "        p1 = segment[0]\n",
    "        p2 = segment[1]\n",
    "        x_diff = p2.x - p1.x\n",
    "        y_diff = p2.y - p1.y\n",
    "        num = abs(y_diff*self.x - x_diff*self.y + p2.x*p1.y - p2.y*p1.x)\n",
    "        den = math.sqrt(y_diff**2 + x_diff**2)\n",
    "        return num / den\n",
    "    def distance_to(self, other):\n",
    "        x_diff = other.x - self.x\n",
    "        y_diff = other.y - self.y\n",
    "        return  math.sqrt(y_diff**2 + x_diff**2)\n",
    "\n",
    "def find_strategic(start, end, results):\n",
    "    \"\"\"\n",
    "    Find point you can not suppress without increasing xtd\n",
    "    :param start: int\n",
    "    :param end: int\n",
    "    :param results: [Result]\n",
    "    :return:\n",
    "    \"\"\"\n",
    "    # search in reverse order to stop at the latest point in the route direction\n",
    "    # in segment [i, j] we try to remove inner elements by checking the xtd\n",
    "    length = len(results)\n",
    "    for k in range(end - 1, start, -1):\n",
    "        # xtd from ogimet point to fpl segment\n",
    "        o_xtd = results[k].ogimet.xtd_to(\n",
    "            (results[k].fpl, results[k + 1].fpl)\n",
    "        )\n",
    "        # xtd from fpl point to ogimet segment\n",
    "        f_xtd = results[k].fpl.xtd_to(\n",
    "            (results[start].ogimet, results[end].ogimet)\n",
    "        )\n",
    "        if abs(f_xtd) > abs(o_xtd):\n",
    "            fpl_d = -1\n",
    "            if k < length - 1:\n",
    "                fpl_d = results[k].fpl.distance_to(results[k+1].fpl)\n",
    "            if  abs(f_xtd) < fpl_d or fpl_d < 0:\n",
    "                return k\n",
    "    return None\n",
    "def filter_by_xtd(results):\n",
    "    \"\"\"\n",
    "    Here we keep significant ogimet points.\n",
    "    By significant, I mean points which increase the xtd if missing.\n",
    "    The algorithm is recursive, if route is A B C D E F\n",
    "    and ogimet route found is A B'C'D'E'F\n",
    "    We try to suppress B', if successful we try to suppress C' and so on\n",
    "    For example if B', C' and E' are not relevant the loop\n",
    "    will try to suppress B' and C', then it will keep D' and\n",
    "    start again from D' to suppress E' and keep F\n",
    "    At the end we try again (recursion) until the route size is constant.\n",
    "    For information a typical NAT route will reduce from 26 to 15 points\n",
    "    and a flight to NRT will end with 26 points (starting from 79)\n",
    "    :param results: [Result]\n",
    "    :return: [Result]\n",
    "    \"\"\"\n",
    "    res = [results[0]]\n",
    "    i = -1\n",
    "    while i < (len(results) - 1):\n",
    "        i += 1\n",
    "        j = i + 2\n",
    "        # we try to remove many consecutive points until it fails\n",
    "        while j <= len(results) - 1:\n",
    "            k = find_strategic(i, j, results)\n",
    "            if k is None:\n",
    "                j += 1  # no significant point yet, try to extend to next\n",
    "            else:\n",
    "                # a significant point was found, store it\n",
    "                if results[k].ogimet.name not in [o.name for _, o in res]:\n",
    "                    res.append(results[k])\n",
    "                i = k - 1  # will start at k on next round\n",
    "                break\n",
    "    res.append(results[-1])\n",
    "    # recursion works, so try it until there is no change\n",
    "    if len(res) < len(results):\n",
    "        return filter_by_xtd(res)\n",
    "    else:\n",
    "        return res\n",
    "\n",
    "\n",
    "ogimet_results = [Result(Point(plane_route_meteo[i]), Point(path[i])) for i in range(len(path))]\n",
    "ogimet_results = filter_by_xtd(ogimet_results)\n",
    "strategics = [[r.ogimet.x, r.ogimet.y] for r in ogimet_results]\n",
    "strategics_np = np.array(strategics)\n",
    "print(len(strategics))"
   ],
   "metadata": {
    "collapsed": false,
    "pycharm": {
     "name": "#%%\n"
    }
   }
  },
  {
   "cell_type": "code",
   "execution_count": 98,
   "outputs": [
    {
     "data": {
      "application/vnd.plotly.v1+json": {
       "config": {
        "plotlyServerURL": "https://plot.ly"
       },
       "data": [
        {
         "mode": "markers",
         "name": "stations",
         "type": "scatter",
         "x": [
          3856.1680881409657,
          9270.375533413333,
          1389.0848320218697,
          42657.43817355334,
          18996.530629366993,
          1342.0609739402512,
          86936.87459490342,
          80799.28188816455,
          27168.333373830144,
          28254.135992884145,
          71472.02738984523,
          55658.84808723606,
          94114.66600567783,
          91726.74842460184,
          44414.748655668634,
          17469.315871871117,
          89289.75380285093,
          83597.8552273232,
          82096.39103995563,
          79481.1873704265,
          35268.980571916385,
          98477.653299824,
          27841.212944220308,
          64770.27379911488,
          80184.85353942458,
          7866.23787682128,
          56615.13071819441,
          24123.302122509915,
          65592.44360655971,
          19975.379284228813,
          7544.648805103904,
          83084.31922538282,
          47569.5151398747,
          95296.81650100843,
          85140.34777641208,
          96124.00823911981,
          96330.99357429036,
          4445.6677293853945,
          86538.3688078858,
          62992.693497354216,
          47071.99976513726,
          94280.40416359613,
          61868.199994618924,
          7873.4133081238115,
          97139.12576083887,
          61104.102233288,
          49886.32027575998,
          18760.61967922564,
          61360.268965527466,
          45998.22600350492,
          82148.20274483599,
          39471.17479468081,
          64056.001331426705,
          49968.38475920746,
          80676.68149432963,
          88397.41358463943,
          93571.87293835053,
          94985.22911247607,
          65221.70219600668,
          67097.59727653096,
          2931.153622697158,
          7090.850004437865,
          380.0510587876671,
          11327.79750777706,
          7443.770111831871,
          20598.64558453017,
          320.3447693671424,
          17948.953950274037,
          91713.63910506589,
          22283.191963936144,
          15897.315924185363,
          77037.97466070946,
          76321.20850597542,
          3222.73737454305,
          83418.52688464381,
          97066.55353807005,
          81256.85241159782,
          18184.572958442757,
          62643.09761645972,
          80696.54559041784,
          3182.4297775214004,
          65956.61658655883,
          617.4668708483711,
          15518.897388839448,
          56307.66246956044,
          96299.52108975798,
          51217.37836783461,
          55132.14676805046,
          98754.78822787898,
          1808.134963530883,
          72290.39877908443,
          12402.520880106826,
          49803.69196520899,
          41615.88611119398,
          75208.41735451415,
          5447.295242692596,
          5390.61624912669,
          70267.89025196353,
          12874.767004736454,
          68222.42998333511,
          7852.470636135489,
          92971.30085778657,
          78476.57521437078,
          79698.12926902488,
          52416.61179354697,
          78931.55372955436,
          34381.91317111131,
          32668.773285030806,
          30441.79540423292,
          572.4287738359868,
          58349.302733427736,
          947.8572747183889,
          52024.09763226393,
          40570.62928234827,
          44951.39241973936,
          60631.9582643293,
          88161.5598014145,
          88643.56685131103,
          89500.25073358139,
          44847.70354823613,
          98703.41051262303,
          62777.57423743619,
          52869.48912854878,
          51902.001406223084,
          53544.11499845553,
          89876.85317851073,
          59572.75457453248,
          61973.73209472525,
          3422.1270940008485,
          46470.57943280694,
          17688.64452965876,
          70849.63608436154,
          14529.51926442062,
          27146.38078371666,
          45222.34256460997,
          31909.07842184776,
          93543.16167932926,
          70874.36588210515,
          34577.00401297286,
          45546.871477514615,
          72444.87901049711,
          79780.12055385052,
          69071.70634136705,
          73522.216013459,
          12490.344587147762,
          3696.9020550677965,
          99191.87974342142,
          35030.11048318755,
          74582.49346819625,
          98585.67728293568
         ],
         "y": [
          78010.0460524675,
          63289.26864844773,
          93615.85360849233,
          25308.64507581302,
          41482.46329367714,
          64847.278482319045,
          60903.570344771986,
          82651.1330419333,
          83647.6440894443,
          13830.860262998502,
          47253.660754463956,
          38557.55732596415,
          8119.067548279624,
          15693.442531815072,
          21210.604313749704,
          51479.80516932752,
          92368.10673923748,
          49965.72927708482,
          93438.81605913729,
          46158.510218329866,
          10859.242544912784,
          15105.827254382264,
          69912.95444474458,
          22353.65441712318,
          51211.231058375626,
          3415.976101733875,
          14967.355990200404,
          3348.5727133298337,
          85442.80343353565,
          80705.24877555342,
          63603.43865889668,
          29152.153826900394,
          17402.437102179036,
          4109.595142580447,
          83940.216641155,
          9102.333092744086,
          11211.705206713274,
          74478.2046937011,
          93580.06364171689,
          33138.40251854892,
          80212.92976383728,
          16382.592154581189,
          2332.673110625494,
          86011.08658592225,
          89208.69732533339,
          22386.289974195162,
          97135.48590467493,
          78274.03662764087,
          58616.46186247971,
          27743.157409208987,
          92944.82628887602,
          90308.08619354569,
          6943.247738154967,
          76508.47931895382,
          48123.77121951973,
          99552.7673631585,
          41378.38223159829,
          32911.780849335424,
          44883.079801946005,
          56705.28956780323,
          95807.55495530504,
          32213.83662920666,
          16897.10923582608,
          7479.813294833837,
          46935.05810830081,
          26016.141423325767,
          13373.16176023131,
          11784.538948342193,
          73216.93929046487,
          1339.848528083276,
          1256.7880001711605,
          4993.875561160255,
          84598.80541026357,
          97507.94634068539,
          44800.109860651275,
          27205.76438280079,
          99536.70653383828,
          43392.636880993785,
          66354.01715942378,
          42576.086440405525,
          47812.834009813734,
          25580.07116946509,
          5842.152550785085,
          91774.41050186356,
          9137.330240516361,
          20658.648885045004,
          18536.802341362712,
          22144.234012583973,
          39246.654616592146,
          35240.483386089196,
          23721.39740980457,
          58996.73776634459,
          31290.049512702244,
          45949.33769333186,
          10555.361703549826,
          86657.35612337141,
          82122.72469796443,
          80416.58993063663,
          36794.602261807544,
          47893.865400818446,
          45164.50002701489,
          76246.16631263496,
          96523.99548915058,
          33527.93151808562,
          94927.54530553115,
          252.19942724545862,
          14330.91018370407,
          92884.39180271132,
          98807.83461138746,
          64184.75217049544,
          63699.19571995347,
          55338.34704746731,
          62005.23429338656,
          82130.49684615631,
          95302.22051069932,
          70850.78182030094,
          9206.179766825073,
          36098.27610565709,
          86844.75644697086,
          54332.51144754384,
          96266.74592431878,
          90742.72850353773,
          61585.94866395475,
          46126.82841512896,
          84426.54500806208,
          8784.908842872263,
          71903.01215951635,
          96576.81168153515,
          86958.50125804088,
          15242.447583082287,
          48730.82008502745,
          57023.21869080215,
          12285.058412376038,
          34573.76068221414,
          19056.665137409756,
          21801.410389285556,
          38018.60130848469,
          14360.933286689526,
          61342.57333721322,
          29857.717964611253,
          42117.36215606872,
          67809.6644956127,
          74836.64777564834,
          10512.605308704282,
          61323.119404957935,
          95013.4099407453,
          17870.14166267511,
          83980.29259955925,
          23386.24597793332,
          26303.053369872297
         ]
        },
        {
         "mode": "lines",
         "name": "route",
         "type": "scatter",
         "x": [
          0,
          1000,
          2000,
          3000,
          4000,
          5000,
          6000,
          7000,
          8000,
          9000,
          10000,
          11000,
          12000,
          13000,
          14000,
          15000,
          16000,
          17000,
          18000,
          19000,
          20000,
          21000,
          22000,
          23000,
          24000,
          25000,
          26000,
          27000,
          28000,
          29000,
          30000,
          31000,
          32000,
          33000,
          34000,
          35000,
          36000,
          37000,
          38000,
          39000,
          40000,
          41000,
          42000,
          43000,
          44000,
          45000,
          46000,
          47000,
          48000,
          49000,
          50000,
          51000,
          52000,
          53000,
          54000,
          55000,
          56000,
          57000,
          58000,
          59000,
          60000,
          61000,
          62000,
          63000,
          64000,
          65000,
          66000,
          67000,
          68000,
          69000,
          70000,
          71000,
          72000,
          73000,
          74000,
          75000,
          76000,
          77000,
          78000,
          79000,
          80000,
          81000,
          82000,
          83000,
          84000,
          85000,
          86000,
          87000,
          88000,
          89000,
          90000,
          91000,
          92000,
          93000,
          94000,
          95000,
          96000,
          97000,
          98000,
          99000,
          100000
         ],
         "y": [
          0,
          300,
          600,
          900,
          1200,
          1500,
          1800,
          2100,
          2400,
          2700,
          3000,
          3300,
          3600,
          3900,
          4200,
          4500,
          4800,
          5100,
          5400,
          5700,
          6000,
          6300,
          6600,
          6900,
          7200,
          7500,
          7800,
          8100,
          8400,
          8700,
          9000,
          9300,
          9600,
          9900,
          10200,
          10500,
          10800,
          11100,
          11400,
          11700,
          12000,
          12300,
          12600,
          12900,
          13200,
          13500,
          13800,
          14100,
          14400,
          14700,
          15000,
          16000,
          17000,
          18000,
          19000,
          20000,
          21000,
          22000,
          23000,
          24000,
          25000,
          26000,
          27000,
          28000,
          29000,
          30000,
          31000,
          32000,
          33000,
          34000,
          35000,
          36000,
          37000,
          38000,
          39000,
          40000,
          41000,
          42000,
          43000,
          44000,
          45000,
          46000,
          47000,
          48000,
          49000,
          50000,
          51000,
          52000,
          53000,
          54000,
          55000,
          56000,
          57000,
          58000,
          59000,
          60000,
          61000,
          62000,
          63000,
          64000,
          65000
         ]
        },
        {
         "mode": "lines",
         "name": "meteo",
         "type": "scatter",
         "x": [
          617.4668708483711,
          7866.23787682128,
          11327.79750777706,
          15897.315924185363,
          24123.302122509915,
          28254.135992884145,
          35268.980571916385,
          46470.57943280694,
          47569.5151398747,
          51217.37836783461,
          55132.14676805046,
          61104.102233288,
          62992.693497354216,
          65956.61658655883,
          72444.87901049711,
          79481.1873704265,
          80676.68149432963,
          80696.54559041784,
          83597.8552273232,
          86936.87459490342,
          91713.63910506589
         ],
         "y": [
          5842.152550785085,
          3415.976101733875,
          7479.813294833837,
          1256.7880001711605,
          3348.5727133298337,
          13830.860262998502,
          10859.242544912784,
          15242.447583082287,
          17402.437102179036,
          18536.802341362712,
          22144.234012583973,
          22386.289974195162,
          33138.40251854892,
          25580.07116946509,
          42117.36215606872,
          46158.510218329866,
          48123.77121951973,
          42576.086440405525,
          49965.72927708482,
          60903.570344771986,
          73216.93929046487
         ]
        },
        {
         "mode": "lines",
         "name": "strategics",
         "type": "scatter",
         "x": [
          617.4668708483711,
          7866.23787682128,
          35268.980571916385,
          51217.37836783461,
          55132.14676805046,
          79481.1873704265,
          80676.68149432963,
          91713.63910506589
         ],
         "y": [
          5842.152550785085,
          3415.976101733875,
          10859.242544912784,
          18536.802341362712,
          22144.234012583973,
          46158.510218329866,
          48123.77121951973,
          73216.93929046487
         ]
        }
       ],
       "layout": {
        "template": {
         "data": {
          "bar": [
           {
            "error_x": {
             "color": "#2a3f5f"
            },
            "error_y": {
             "color": "#2a3f5f"
            },
            "marker": {
             "line": {
              "color": "#E5ECF6",
              "width": 0.5
             }
            },
            "type": "bar"
           }
          ],
          "barpolar": [
           {
            "marker": {
             "line": {
              "color": "#E5ECF6",
              "width": 0.5
             }
            },
            "type": "barpolar"
           }
          ],
          "carpet": [
           {
            "aaxis": {
             "endlinecolor": "#2a3f5f",
             "gridcolor": "white",
             "linecolor": "white",
             "minorgridcolor": "white",
             "startlinecolor": "#2a3f5f"
            },
            "baxis": {
             "endlinecolor": "#2a3f5f",
             "gridcolor": "white",
             "linecolor": "white",
             "minorgridcolor": "white",
             "startlinecolor": "#2a3f5f"
            },
            "type": "carpet"
           }
          ],
          "choropleth": [
           {
            "colorbar": {
             "outlinewidth": 0,
             "ticks": ""
            },
            "type": "choropleth"
           }
          ],
          "contour": [
           {
            "colorbar": {
             "outlinewidth": 0,
             "ticks": ""
            },
            "colorscale": [
             [
              0.0,
              "#0d0887"
             ],
             [
              0.1111111111111111,
              "#46039f"
             ],
             [
              0.2222222222222222,
              "#7201a8"
             ],
             [
              0.3333333333333333,
              "#9c179e"
             ],
             [
              0.4444444444444444,
              "#bd3786"
             ],
             [
              0.5555555555555556,
              "#d8576b"
             ],
             [
              0.6666666666666666,
              "#ed7953"
             ],
             [
              0.7777777777777778,
              "#fb9f3a"
             ],
             [
              0.8888888888888888,
              "#fdca26"
             ],
             [
              1.0,
              "#f0f921"
             ]
            ],
            "type": "contour"
           }
          ],
          "contourcarpet": [
           {
            "colorbar": {
             "outlinewidth": 0,
             "ticks": ""
            },
            "type": "contourcarpet"
           }
          ],
          "heatmap": [
           {
            "colorbar": {
             "outlinewidth": 0,
             "ticks": ""
            },
            "colorscale": [
             [
              0.0,
              "#0d0887"
             ],
             [
              0.1111111111111111,
              "#46039f"
             ],
             [
              0.2222222222222222,
              "#7201a8"
             ],
             [
              0.3333333333333333,
              "#9c179e"
             ],
             [
              0.4444444444444444,
              "#bd3786"
             ],
             [
              0.5555555555555556,
              "#d8576b"
             ],
             [
              0.6666666666666666,
              "#ed7953"
             ],
             [
              0.7777777777777778,
              "#fb9f3a"
             ],
             [
              0.8888888888888888,
              "#fdca26"
             ],
             [
              1.0,
              "#f0f921"
             ]
            ],
            "type": "heatmap"
           }
          ],
          "heatmapgl": [
           {
            "colorbar": {
             "outlinewidth": 0,
             "ticks": ""
            },
            "colorscale": [
             [
              0.0,
              "#0d0887"
             ],
             [
              0.1111111111111111,
              "#46039f"
             ],
             [
              0.2222222222222222,
              "#7201a8"
             ],
             [
              0.3333333333333333,
              "#9c179e"
             ],
             [
              0.4444444444444444,
              "#bd3786"
             ],
             [
              0.5555555555555556,
              "#d8576b"
             ],
             [
              0.6666666666666666,
              "#ed7953"
             ],
             [
              0.7777777777777778,
              "#fb9f3a"
             ],
             [
              0.8888888888888888,
              "#fdca26"
             ],
             [
              1.0,
              "#f0f921"
             ]
            ],
            "type": "heatmapgl"
           }
          ],
          "histogram": [
           {
            "marker": {
             "colorbar": {
              "outlinewidth": 0,
              "ticks": ""
             }
            },
            "type": "histogram"
           }
          ],
          "histogram2d": [
           {
            "colorbar": {
             "outlinewidth": 0,
             "ticks": ""
            },
            "colorscale": [
             [
              0.0,
              "#0d0887"
             ],
             [
              0.1111111111111111,
              "#46039f"
             ],
             [
              0.2222222222222222,
              "#7201a8"
             ],
             [
              0.3333333333333333,
              "#9c179e"
             ],
             [
              0.4444444444444444,
              "#bd3786"
             ],
             [
              0.5555555555555556,
              "#d8576b"
             ],
             [
              0.6666666666666666,
              "#ed7953"
             ],
             [
              0.7777777777777778,
              "#fb9f3a"
             ],
             [
              0.8888888888888888,
              "#fdca26"
             ],
             [
              1.0,
              "#f0f921"
             ]
            ],
            "type": "histogram2d"
           }
          ],
          "histogram2dcontour": [
           {
            "colorbar": {
             "outlinewidth": 0,
             "ticks": ""
            },
            "colorscale": [
             [
              0.0,
              "#0d0887"
             ],
             [
              0.1111111111111111,
              "#46039f"
             ],
             [
              0.2222222222222222,
              "#7201a8"
             ],
             [
              0.3333333333333333,
              "#9c179e"
             ],
             [
              0.4444444444444444,
              "#bd3786"
             ],
             [
              0.5555555555555556,
              "#d8576b"
             ],
             [
              0.6666666666666666,
              "#ed7953"
             ],
             [
              0.7777777777777778,
              "#fb9f3a"
             ],
             [
              0.8888888888888888,
              "#fdca26"
             ],
             [
              1.0,
              "#f0f921"
             ]
            ],
            "type": "histogram2dcontour"
           }
          ],
          "mesh3d": [
           {
            "colorbar": {
             "outlinewidth": 0,
             "ticks": ""
            },
            "type": "mesh3d"
           }
          ],
          "parcoords": [
           {
            "line": {
             "colorbar": {
              "outlinewidth": 0,
              "ticks": ""
             }
            },
            "type": "parcoords"
           }
          ],
          "pie": [
           {
            "automargin": true,
            "type": "pie"
           }
          ],
          "scatter": [
           {
            "marker": {
             "colorbar": {
              "outlinewidth": 0,
              "ticks": ""
             }
            },
            "type": "scatter"
           }
          ],
          "scatter3d": [
           {
            "line": {
             "colorbar": {
              "outlinewidth": 0,
              "ticks": ""
             }
            },
            "marker": {
             "colorbar": {
              "outlinewidth": 0,
              "ticks": ""
             }
            },
            "type": "scatter3d"
           }
          ],
          "scattercarpet": [
           {
            "marker": {
             "colorbar": {
              "outlinewidth": 0,
              "ticks": ""
             }
            },
            "type": "scattercarpet"
           }
          ],
          "scattergeo": [
           {
            "marker": {
             "colorbar": {
              "outlinewidth": 0,
              "ticks": ""
             }
            },
            "type": "scattergeo"
           }
          ],
          "scattergl": [
           {
            "marker": {
             "colorbar": {
              "outlinewidth": 0,
              "ticks": ""
             }
            },
            "type": "scattergl"
           }
          ],
          "scattermapbox": [
           {
            "marker": {
             "colorbar": {
              "outlinewidth": 0,
              "ticks": ""
             }
            },
            "type": "scattermapbox"
           }
          ],
          "scatterpolar": [
           {
            "marker": {
             "colorbar": {
              "outlinewidth": 0,
              "ticks": ""
             }
            },
            "type": "scatterpolar"
           }
          ],
          "scatterpolargl": [
           {
            "marker": {
             "colorbar": {
              "outlinewidth": 0,
              "ticks": ""
             }
            },
            "type": "scatterpolargl"
           }
          ],
          "scatterternary": [
           {
            "marker": {
             "colorbar": {
              "outlinewidth": 0,
              "ticks": ""
             }
            },
            "type": "scatterternary"
           }
          ],
          "surface": [
           {
            "colorbar": {
             "outlinewidth": 0,
             "ticks": ""
            },
            "colorscale": [
             [
              0.0,
              "#0d0887"
             ],
             [
              0.1111111111111111,
              "#46039f"
             ],
             [
              0.2222222222222222,
              "#7201a8"
             ],
             [
              0.3333333333333333,
              "#9c179e"
             ],
             [
              0.4444444444444444,
              "#bd3786"
             ],
             [
              0.5555555555555556,
              "#d8576b"
             ],
             [
              0.6666666666666666,
              "#ed7953"
             ],
             [
              0.7777777777777778,
              "#fb9f3a"
             ],
             [
              0.8888888888888888,
              "#fdca26"
             ],
             [
              1.0,
              "#f0f921"
             ]
            ],
            "type": "surface"
           }
          ],
          "table": [
           {
            "cells": {
             "fill": {
              "color": "#EBF0F8"
             },
             "line": {
              "color": "white"
             }
            },
            "header": {
             "fill": {
              "color": "#C8D4E3"
             },
             "line": {
              "color": "white"
             }
            },
            "type": "table"
           }
          ]
         },
         "layout": {
          "annotationdefaults": {
           "arrowcolor": "#2a3f5f",
           "arrowhead": 0,
           "arrowwidth": 1
          },
          "autotypenumbers": "strict",
          "coloraxis": {
           "colorbar": {
            "outlinewidth": 0,
            "ticks": ""
           }
          },
          "colorscale": {
           "diverging": [
            [
             0,
             "#8e0152"
            ],
            [
             0.1,
             "#c51b7d"
            ],
            [
             0.2,
             "#de77ae"
            ],
            [
             0.3,
             "#f1b6da"
            ],
            [
             0.4,
             "#fde0ef"
            ],
            [
             0.5,
             "#f7f7f7"
            ],
            [
             0.6,
             "#e6f5d0"
            ],
            [
             0.7,
             "#b8e186"
            ],
            [
             0.8,
             "#7fbc41"
            ],
            [
             0.9,
             "#4d9221"
            ],
            [
             1,
             "#276419"
            ]
           ],
           "sequential": [
            [
             0.0,
             "#0d0887"
            ],
            [
             0.1111111111111111,
             "#46039f"
            ],
            [
             0.2222222222222222,
             "#7201a8"
            ],
            [
             0.3333333333333333,
             "#9c179e"
            ],
            [
             0.4444444444444444,
             "#bd3786"
            ],
            [
             0.5555555555555556,
             "#d8576b"
            ],
            [
             0.6666666666666666,
             "#ed7953"
            ],
            [
             0.7777777777777778,
             "#fb9f3a"
            ],
            [
             0.8888888888888888,
             "#fdca26"
            ],
            [
             1.0,
             "#f0f921"
            ]
           ],
           "sequentialminus": [
            [
             0.0,
             "#0d0887"
            ],
            [
             0.1111111111111111,
             "#46039f"
            ],
            [
             0.2222222222222222,
             "#7201a8"
            ],
            [
             0.3333333333333333,
             "#9c179e"
            ],
            [
             0.4444444444444444,
             "#bd3786"
            ],
            [
             0.5555555555555556,
             "#d8576b"
            ],
            [
             0.6666666666666666,
             "#ed7953"
            ],
            [
             0.7777777777777778,
             "#fb9f3a"
            ],
            [
             0.8888888888888888,
             "#fdca26"
            ],
            [
             1.0,
             "#f0f921"
            ]
           ]
          },
          "colorway": [
           "#636efa",
           "#EF553B",
           "#00cc96",
           "#ab63fa",
           "#FFA15A",
           "#19d3f3",
           "#FF6692",
           "#B6E880",
           "#FF97FF",
           "#FECB52"
          ],
          "font": {
           "color": "#2a3f5f"
          },
          "geo": {
           "bgcolor": "white",
           "lakecolor": "white",
           "landcolor": "#E5ECF6",
           "showlakes": true,
           "showland": true,
           "subunitcolor": "white"
          },
          "hoverlabel": {
           "align": "left"
          },
          "hovermode": "closest",
          "mapbox": {
           "style": "light"
          },
          "paper_bgcolor": "white",
          "plot_bgcolor": "#E5ECF6",
          "polar": {
           "angularaxis": {
            "gridcolor": "white",
            "linecolor": "white",
            "ticks": ""
           },
           "bgcolor": "#E5ECF6",
           "radialaxis": {
            "gridcolor": "white",
            "linecolor": "white",
            "ticks": ""
           }
          },
          "scene": {
           "xaxis": {
            "backgroundcolor": "#E5ECF6",
            "gridcolor": "white",
            "gridwidth": 2,
            "linecolor": "white",
            "showbackground": true,
            "ticks": "",
            "zerolinecolor": "white"
           },
           "yaxis": {
            "backgroundcolor": "#E5ECF6",
            "gridcolor": "white",
            "gridwidth": 2,
            "linecolor": "white",
            "showbackground": true,
            "ticks": "",
            "zerolinecolor": "white"
           },
           "zaxis": {
            "backgroundcolor": "#E5ECF6",
            "gridcolor": "white",
            "gridwidth": 2,
            "linecolor": "white",
            "showbackground": true,
            "ticks": "",
            "zerolinecolor": "white"
           }
          },
          "shapedefaults": {
           "line": {
            "color": "#2a3f5f"
           }
          },
          "ternary": {
           "aaxis": {
            "gridcolor": "white",
            "linecolor": "white",
            "ticks": ""
           },
           "baxis": {
            "gridcolor": "white",
            "linecolor": "white",
            "ticks": ""
           },
           "bgcolor": "#E5ECF6",
           "caxis": {
            "gridcolor": "white",
            "linecolor": "white",
            "ticks": ""
           }
          },
          "title": {
           "x": 0.05
          },
          "xaxis": {
           "automargin": true,
           "gridcolor": "white",
           "linecolor": "white",
           "ticks": "",
           "title": {
            "standoff": 15
           },
           "zerolinecolor": "white",
           "zerolinewidth": 2
          },
          "yaxis": {
           "automargin": true,
           "gridcolor": "white",
           "linecolor": "white",
           "ticks": "",
           "title": {
            "standoff": 15
           },
           "zerolinecolor": "white",
           "zerolinewidth": 2
          }
         }
        }
       }
      },
      "text/html": "<div>                            <div id=\"6d744407-0329-43fd-b09f-9e7985c2d0fb\" class=\"plotly-graph-div\" style=\"height:525px; width:100%;\"></div>            <script type=\"text/javascript\">                require([\"plotly\"], function(Plotly) {                    window.PLOTLYENV=window.PLOTLYENV || {};                                    if (document.getElementById(\"6d744407-0329-43fd-b09f-9e7985c2d0fb\")) {                    Plotly.newPlot(                        \"6d744407-0329-43fd-b09f-9e7985c2d0fb\",                        [{\"mode\": \"markers\", \"name\": \"stations\", \"type\": \"scatter\", \"x\": [3856.1680881409657, 9270.375533413333, 1389.0848320218697, 42657.43817355334, 18996.530629366993, 1342.0609739402512, 86936.87459490342, 80799.28188816455, 27168.333373830144, 28254.135992884145, 71472.02738984523, 55658.84808723606, 94114.66600567783, 91726.74842460184, 44414.748655668634, 17469.315871871117, 89289.75380285093, 83597.8552273232, 82096.39103995563, 79481.1873704265, 35268.980571916385, 98477.653299824, 27841.212944220308, 64770.27379911488, 80184.85353942458, 7866.23787682128, 56615.13071819441, 24123.302122509915, 65592.44360655971, 19975.379284228813, 7544.648805103904, 83084.31922538282, 47569.5151398747, 95296.81650100843, 85140.34777641208, 96124.00823911981, 96330.99357429036, 4445.6677293853945, 86538.3688078858, 62992.693497354216, 47071.99976513726, 94280.40416359613, 61868.199994618924, 7873.4133081238115, 97139.12576083887, 61104.102233288, 49886.32027575998, 18760.61967922564, 61360.268965527466, 45998.22600350492, 82148.20274483599, 39471.17479468081, 64056.001331426705, 49968.38475920746, 80676.68149432963, 88397.41358463943, 93571.87293835053, 94985.22911247607, 65221.70219600668, 67097.59727653096, 2931.153622697158, 7090.850004437865, 380.0510587876671, 11327.79750777706, 7443.770111831871, 20598.64558453017, 320.3447693671424, 17948.953950274037, 91713.63910506589, 22283.191963936144, 15897.315924185363, 77037.97466070946, 76321.20850597542, 3222.73737454305, 83418.52688464381, 97066.55353807005, 81256.85241159782, 18184.572958442757, 62643.09761645972, 80696.54559041784, 3182.4297775214004, 65956.61658655883, 617.4668708483711, 15518.897388839448, 56307.66246956044, 96299.52108975798, 51217.37836783461, 55132.14676805046, 98754.78822787898, 1808.134963530883, 72290.39877908443, 12402.520880106826, 49803.69196520899, 41615.88611119398, 75208.41735451415, 5447.295242692596, 5390.61624912669, 70267.89025196353, 12874.767004736454, 68222.42998333511, 7852.470636135489, 92971.30085778657, 78476.57521437078, 79698.12926902488, 52416.61179354697, 78931.55372955436, 34381.91317111131, 32668.773285030806, 30441.79540423292, 572.4287738359868, 58349.302733427736, 947.8572747183889, 52024.09763226393, 40570.62928234827, 44951.39241973936, 60631.9582643293, 88161.5598014145, 88643.56685131103, 89500.25073358139, 44847.70354823613, 98703.41051262303, 62777.57423743619, 52869.48912854878, 51902.001406223084, 53544.11499845553, 89876.85317851073, 59572.75457453248, 61973.73209472525, 3422.1270940008485, 46470.57943280694, 17688.64452965876, 70849.63608436154, 14529.51926442062, 27146.38078371666, 45222.34256460997, 31909.07842184776, 93543.16167932926, 70874.36588210515, 34577.00401297286, 45546.871477514615, 72444.87901049711, 79780.12055385052, 69071.70634136705, 73522.216013459, 12490.344587147762, 3696.9020550677965, 99191.87974342142, 35030.11048318755, 74582.49346819625, 98585.67728293568], \"y\": [78010.0460524675, 63289.26864844773, 93615.85360849233, 25308.64507581302, 41482.46329367714, 64847.278482319045, 60903.570344771986, 82651.1330419333, 83647.6440894443, 13830.860262998502, 47253.660754463956, 38557.55732596415, 8119.067548279624, 15693.442531815072, 21210.604313749704, 51479.80516932752, 92368.10673923748, 49965.72927708482, 93438.81605913729, 46158.510218329866, 10859.242544912784, 15105.827254382264, 69912.95444474458, 22353.65441712318, 51211.231058375626, 3415.976101733875, 14967.355990200404, 3348.5727133298337, 85442.80343353565, 80705.24877555342, 63603.43865889668, 29152.153826900394, 17402.437102179036, 4109.595142580447, 83940.216641155, 9102.333092744086, 11211.705206713274, 74478.2046937011, 93580.06364171689, 33138.40251854892, 80212.92976383728, 16382.592154581189, 2332.673110625494, 86011.08658592225, 89208.69732533339, 22386.289974195162, 97135.48590467493, 78274.03662764087, 58616.46186247971, 27743.157409208987, 92944.82628887602, 90308.08619354569, 6943.247738154967, 76508.47931895382, 48123.77121951973, 99552.7673631585, 41378.38223159829, 32911.780849335424, 44883.079801946005, 56705.28956780323, 95807.55495530504, 32213.83662920666, 16897.10923582608, 7479.813294833837, 46935.05810830081, 26016.141423325767, 13373.16176023131, 11784.538948342193, 73216.93929046487, 1339.848528083276, 1256.7880001711605, 4993.875561160255, 84598.80541026357, 97507.94634068539, 44800.109860651275, 27205.76438280079, 99536.70653383828, 43392.636880993785, 66354.01715942378, 42576.086440405525, 47812.834009813734, 25580.07116946509, 5842.152550785085, 91774.41050186356, 9137.330240516361, 20658.648885045004, 18536.802341362712, 22144.234012583973, 39246.654616592146, 35240.483386089196, 23721.39740980457, 58996.73776634459, 31290.049512702244, 45949.33769333186, 10555.361703549826, 86657.35612337141, 82122.72469796443, 80416.58993063663, 36794.602261807544, 47893.865400818446, 45164.50002701489, 76246.16631263496, 96523.99548915058, 33527.93151808562, 94927.54530553115, 252.19942724545862, 14330.91018370407, 92884.39180271132, 98807.83461138746, 64184.75217049544, 63699.19571995347, 55338.34704746731, 62005.23429338656, 82130.49684615631, 95302.22051069932, 70850.78182030094, 9206.179766825073, 36098.27610565709, 86844.75644697086, 54332.51144754384, 96266.74592431878, 90742.72850353773, 61585.94866395475, 46126.82841512896, 84426.54500806208, 8784.908842872263, 71903.01215951635, 96576.81168153515, 86958.50125804088, 15242.447583082287, 48730.82008502745, 57023.21869080215, 12285.058412376038, 34573.76068221414, 19056.665137409756, 21801.410389285556, 38018.60130848469, 14360.933286689526, 61342.57333721322, 29857.717964611253, 42117.36215606872, 67809.6644956127, 74836.64777564834, 10512.605308704282, 61323.119404957935, 95013.4099407453, 17870.14166267511, 83980.29259955925, 23386.24597793332, 26303.053369872297]}, {\"mode\": \"lines\", \"name\": \"route\", \"type\": \"scatter\", \"x\": [0, 1000, 2000, 3000, 4000, 5000, 6000, 7000, 8000, 9000, 10000, 11000, 12000, 13000, 14000, 15000, 16000, 17000, 18000, 19000, 20000, 21000, 22000, 23000, 24000, 25000, 26000, 27000, 28000, 29000, 30000, 31000, 32000, 33000, 34000, 35000, 36000, 37000, 38000, 39000, 40000, 41000, 42000, 43000, 44000, 45000, 46000, 47000, 48000, 49000, 50000, 51000, 52000, 53000, 54000, 55000, 56000, 57000, 58000, 59000, 60000, 61000, 62000, 63000, 64000, 65000, 66000, 67000, 68000, 69000, 70000, 71000, 72000, 73000, 74000, 75000, 76000, 77000, 78000, 79000, 80000, 81000, 82000, 83000, 84000, 85000, 86000, 87000, 88000, 89000, 90000, 91000, 92000, 93000, 94000, 95000, 96000, 97000, 98000, 99000, 100000], \"y\": [0, 300, 600, 900, 1200, 1500, 1800, 2100, 2400, 2700, 3000, 3300, 3600, 3900, 4200, 4500, 4800, 5100, 5400, 5700, 6000, 6300, 6600, 6900, 7200, 7500, 7800, 8100, 8400, 8700, 9000, 9300, 9600, 9900, 10200, 10500, 10800, 11100, 11400, 11700, 12000, 12300, 12600, 12900, 13200, 13500, 13800, 14100, 14400, 14700, 15000, 16000, 17000, 18000, 19000, 20000, 21000, 22000, 23000, 24000, 25000, 26000, 27000, 28000, 29000, 30000, 31000, 32000, 33000, 34000, 35000, 36000, 37000, 38000, 39000, 40000, 41000, 42000, 43000, 44000, 45000, 46000, 47000, 48000, 49000, 50000, 51000, 52000, 53000, 54000, 55000, 56000, 57000, 58000, 59000, 60000, 61000, 62000, 63000, 64000, 65000]}, {\"mode\": \"lines\", \"name\": \"meteo\", \"type\": \"scatter\", \"x\": [617.4668708483711, 7866.23787682128, 11327.79750777706, 15897.315924185363, 24123.302122509915, 28254.135992884145, 35268.980571916385, 46470.57943280694, 47569.5151398747, 51217.37836783461, 55132.14676805046, 61104.102233288, 62992.693497354216, 65956.61658655883, 72444.87901049711, 79481.1873704265, 80676.68149432963, 80696.54559041784, 83597.8552273232, 86936.87459490342, 91713.63910506589], \"y\": [5842.152550785085, 3415.976101733875, 7479.813294833837, 1256.7880001711605, 3348.5727133298337, 13830.860262998502, 10859.242544912784, 15242.447583082287, 17402.437102179036, 18536.802341362712, 22144.234012583973, 22386.289974195162, 33138.40251854892, 25580.07116946509, 42117.36215606872, 46158.510218329866, 48123.77121951973, 42576.086440405525, 49965.72927708482, 60903.570344771986, 73216.93929046487]}, {\"mode\": \"lines\", \"name\": \"strategics\", \"type\": \"scatter\", \"x\": [617.4668708483711, 7866.23787682128, 35268.980571916385, 51217.37836783461, 55132.14676805046, 79481.1873704265, 80676.68149432963, 91713.63910506589], \"y\": [5842.152550785085, 3415.976101733875, 10859.242544912784, 18536.802341362712, 22144.234012583973, 46158.510218329866, 48123.77121951973, 73216.93929046487]}],                        {\"template\": {\"data\": {\"bar\": [{\"error_x\": {\"color\": \"#2a3f5f\"}, \"error_y\": {\"color\": \"#2a3f5f\"}, \"marker\": {\"line\": {\"color\": \"#E5ECF6\", \"width\": 0.5}}, \"type\": \"bar\"}], \"barpolar\": [{\"marker\": {\"line\": {\"color\": \"#E5ECF6\", \"width\": 0.5}}, \"type\": \"barpolar\"}], \"carpet\": [{\"aaxis\": {\"endlinecolor\": \"#2a3f5f\", \"gridcolor\": \"white\", \"linecolor\": \"white\", \"minorgridcolor\": \"white\", \"startlinecolor\": \"#2a3f5f\"}, \"baxis\": {\"endlinecolor\": \"#2a3f5f\", \"gridcolor\": \"white\", \"linecolor\": \"white\", \"minorgridcolor\": \"white\", \"startlinecolor\": \"#2a3f5f\"}, \"type\": \"carpet\"}], \"choropleth\": [{\"colorbar\": {\"outlinewidth\": 0, \"ticks\": \"\"}, \"type\": \"choropleth\"}], \"contour\": [{\"colorbar\": {\"outlinewidth\": 0, \"ticks\": \"\"}, \"colorscale\": [[0.0, \"#0d0887\"], [0.1111111111111111, \"#46039f\"], [0.2222222222222222, \"#7201a8\"], [0.3333333333333333, \"#9c179e\"], [0.4444444444444444, \"#bd3786\"], [0.5555555555555556, \"#d8576b\"], [0.6666666666666666, \"#ed7953\"], [0.7777777777777778, \"#fb9f3a\"], [0.8888888888888888, \"#fdca26\"], [1.0, \"#f0f921\"]], \"type\": \"contour\"}], \"contourcarpet\": [{\"colorbar\": {\"outlinewidth\": 0, \"ticks\": \"\"}, \"type\": \"contourcarpet\"}], \"heatmap\": [{\"colorbar\": {\"outlinewidth\": 0, \"ticks\": \"\"}, \"colorscale\": [[0.0, \"#0d0887\"], [0.1111111111111111, \"#46039f\"], [0.2222222222222222, \"#7201a8\"], [0.3333333333333333, \"#9c179e\"], [0.4444444444444444, \"#bd3786\"], [0.5555555555555556, \"#d8576b\"], [0.6666666666666666, \"#ed7953\"], [0.7777777777777778, \"#fb9f3a\"], [0.8888888888888888, \"#fdca26\"], [1.0, \"#f0f921\"]], \"type\": \"heatmap\"}], \"heatmapgl\": [{\"colorbar\": {\"outlinewidth\": 0, \"ticks\": \"\"}, \"colorscale\": [[0.0, \"#0d0887\"], [0.1111111111111111, \"#46039f\"], [0.2222222222222222, \"#7201a8\"], [0.3333333333333333, \"#9c179e\"], [0.4444444444444444, \"#bd3786\"], [0.5555555555555556, \"#d8576b\"], [0.6666666666666666, \"#ed7953\"], [0.7777777777777778, \"#fb9f3a\"], [0.8888888888888888, \"#fdca26\"], [1.0, \"#f0f921\"]], \"type\": \"heatmapgl\"}], \"histogram\": [{\"marker\": {\"colorbar\": {\"outlinewidth\": 0, \"ticks\": \"\"}}, \"type\": \"histogram\"}], \"histogram2d\": [{\"colorbar\": {\"outlinewidth\": 0, \"ticks\": \"\"}, \"colorscale\": [[0.0, \"#0d0887\"], [0.1111111111111111, \"#46039f\"], [0.2222222222222222, \"#7201a8\"], [0.3333333333333333, \"#9c179e\"], [0.4444444444444444, \"#bd3786\"], [0.5555555555555556, \"#d8576b\"], [0.6666666666666666, \"#ed7953\"], [0.7777777777777778, \"#fb9f3a\"], [0.8888888888888888, \"#fdca26\"], [1.0, \"#f0f921\"]], \"type\": \"histogram2d\"}], \"histogram2dcontour\": [{\"colorbar\": {\"outlinewidth\": 0, \"ticks\": \"\"}, \"colorscale\": [[0.0, \"#0d0887\"], [0.1111111111111111, \"#46039f\"], [0.2222222222222222, \"#7201a8\"], [0.3333333333333333, \"#9c179e\"], [0.4444444444444444, \"#bd3786\"], [0.5555555555555556, \"#d8576b\"], [0.6666666666666666, \"#ed7953\"], [0.7777777777777778, \"#fb9f3a\"], [0.8888888888888888, \"#fdca26\"], [1.0, \"#f0f921\"]], \"type\": \"histogram2dcontour\"}], \"mesh3d\": [{\"colorbar\": {\"outlinewidth\": 0, \"ticks\": \"\"}, \"type\": \"mesh3d\"}], \"parcoords\": [{\"line\": {\"colorbar\": {\"outlinewidth\": 0, \"ticks\": \"\"}}, \"type\": \"parcoords\"}], \"pie\": [{\"automargin\": true, \"type\": \"pie\"}], \"scatter\": [{\"marker\": {\"colorbar\": {\"outlinewidth\": 0, \"ticks\": \"\"}}, \"type\": \"scatter\"}], \"scatter3d\": [{\"line\": {\"colorbar\": {\"outlinewidth\": 0, \"ticks\": \"\"}}, \"marker\": {\"colorbar\": {\"outlinewidth\": 0, \"ticks\": \"\"}}, \"type\": \"scatter3d\"}], \"scattercarpet\": [{\"marker\": {\"colorbar\": {\"outlinewidth\": 0, \"ticks\": \"\"}}, \"type\": \"scattercarpet\"}], \"scattergeo\": [{\"marker\": {\"colorbar\": {\"outlinewidth\": 0, \"ticks\": \"\"}}, \"type\": \"scattergeo\"}], \"scattergl\": [{\"marker\": {\"colorbar\": {\"outlinewidth\": 0, \"ticks\": \"\"}}, \"type\": \"scattergl\"}], \"scattermapbox\": [{\"marker\": {\"colorbar\": {\"outlinewidth\": 0, \"ticks\": \"\"}}, \"type\": \"scattermapbox\"}], \"scatterpolar\": [{\"marker\": {\"colorbar\": {\"outlinewidth\": 0, \"ticks\": \"\"}}, \"type\": \"scatterpolar\"}], \"scatterpolargl\": [{\"marker\": {\"colorbar\": {\"outlinewidth\": 0, \"ticks\": \"\"}}, \"type\": \"scatterpolargl\"}], \"scatterternary\": [{\"marker\": {\"colorbar\": {\"outlinewidth\": 0, \"ticks\": \"\"}}, \"type\": \"scatterternary\"}], \"surface\": [{\"colorbar\": {\"outlinewidth\": 0, \"ticks\": \"\"}, \"colorscale\": [[0.0, \"#0d0887\"], [0.1111111111111111, \"#46039f\"], [0.2222222222222222, \"#7201a8\"], [0.3333333333333333, \"#9c179e\"], [0.4444444444444444, \"#bd3786\"], [0.5555555555555556, \"#d8576b\"], [0.6666666666666666, \"#ed7953\"], [0.7777777777777778, \"#fb9f3a\"], [0.8888888888888888, \"#fdca26\"], [1.0, \"#f0f921\"]], \"type\": \"surface\"}], \"table\": [{\"cells\": {\"fill\": {\"color\": \"#EBF0F8\"}, \"line\": {\"color\": \"white\"}}, \"header\": {\"fill\": {\"color\": \"#C8D4E3\"}, \"line\": {\"color\": \"white\"}}, \"type\": \"table\"}]}, \"layout\": {\"annotationdefaults\": {\"arrowcolor\": \"#2a3f5f\", \"arrowhead\": 0, \"arrowwidth\": 1}, \"autotypenumbers\": \"strict\", \"coloraxis\": {\"colorbar\": {\"outlinewidth\": 0, \"ticks\": \"\"}}, \"colorscale\": {\"diverging\": [[0, \"#8e0152\"], [0.1, \"#c51b7d\"], [0.2, \"#de77ae\"], [0.3, \"#f1b6da\"], [0.4, \"#fde0ef\"], [0.5, \"#f7f7f7\"], [0.6, \"#e6f5d0\"], [0.7, \"#b8e186\"], [0.8, \"#7fbc41\"], [0.9, \"#4d9221\"], [1, \"#276419\"]], \"sequential\": [[0.0, \"#0d0887\"], [0.1111111111111111, \"#46039f\"], [0.2222222222222222, \"#7201a8\"], [0.3333333333333333, \"#9c179e\"], [0.4444444444444444, \"#bd3786\"], [0.5555555555555556, \"#d8576b\"], [0.6666666666666666, \"#ed7953\"], [0.7777777777777778, \"#fb9f3a\"], [0.8888888888888888, \"#fdca26\"], [1.0, \"#f0f921\"]], \"sequentialminus\": [[0.0, \"#0d0887\"], [0.1111111111111111, \"#46039f\"], [0.2222222222222222, \"#7201a8\"], [0.3333333333333333, \"#9c179e\"], [0.4444444444444444, \"#bd3786\"], [0.5555555555555556, \"#d8576b\"], [0.6666666666666666, \"#ed7953\"], [0.7777777777777778, \"#fb9f3a\"], [0.8888888888888888, \"#fdca26\"], [1.0, \"#f0f921\"]]}, \"colorway\": [\"#636efa\", \"#EF553B\", \"#00cc96\", \"#ab63fa\", \"#FFA15A\", \"#19d3f3\", \"#FF6692\", \"#B6E880\", \"#FF97FF\", \"#FECB52\"], \"font\": {\"color\": \"#2a3f5f\"}, \"geo\": {\"bgcolor\": \"white\", \"lakecolor\": \"white\", \"landcolor\": \"#E5ECF6\", \"showlakes\": true, \"showland\": true, \"subunitcolor\": \"white\"}, \"hoverlabel\": {\"align\": \"left\"}, \"hovermode\": \"closest\", \"mapbox\": {\"style\": \"light\"}, \"paper_bgcolor\": \"white\", \"plot_bgcolor\": \"#E5ECF6\", \"polar\": {\"angularaxis\": {\"gridcolor\": \"white\", \"linecolor\": \"white\", \"ticks\": \"\"}, \"bgcolor\": \"#E5ECF6\", \"radialaxis\": {\"gridcolor\": \"white\", \"linecolor\": \"white\", \"ticks\": \"\"}}, \"scene\": {\"xaxis\": {\"backgroundcolor\": \"#E5ECF6\", \"gridcolor\": \"white\", \"gridwidth\": 2, \"linecolor\": \"white\", \"showbackground\": true, \"ticks\": \"\", \"zerolinecolor\": \"white\"}, \"yaxis\": {\"backgroundcolor\": \"#E5ECF6\", \"gridcolor\": \"white\", \"gridwidth\": 2, \"linecolor\": \"white\", \"showbackground\": true, \"ticks\": \"\", \"zerolinecolor\": \"white\"}, \"zaxis\": {\"backgroundcolor\": \"#E5ECF6\", \"gridcolor\": \"white\", \"gridwidth\": 2, \"linecolor\": \"white\", \"showbackground\": true, \"ticks\": \"\", \"zerolinecolor\": \"white\"}}, \"shapedefaults\": {\"line\": {\"color\": \"#2a3f5f\"}}, \"ternary\": {\"aaxis\": {\"gridcolor\": \"white\", \"linecolor\": \"white\", \"ticks\": \"\"}, \"baxis\": {\"gridcolor\": \"white\", \"linecolor\": \"white\", \"ticks\": \"\"}, \"bgcolor\": \"#E5ECF6\", \"caxis\": {\"gridcolor\": \"white\", \"linecolor\": \"white\", \"ticks\": \"\"}}, \"title\": {\"x\": 0.05}, \"xaxis\": {\"automargin\": true, \"gridcolor\": \"white\", \"linecolor\": \"white\", \"ticks\": \"\", \"title\": {\"standoff\": 15}, \"zerolinecolor\": \"white\", \"zerolinewidth\": 2}, \"yaxis\": {\"automargin\": true, \"gridcolor\": \"white\", \"linecolor\": \"white\", \"ticks\": \"\", \"title\": {\"standoff\": 15}, \"zerolinecolor\": \"white\", \"zerolinewidth\": 2}}}},                        {\"responsive\": true}                    ).then(function(){\n                            \nvar gd = document.getElementById('6d744407-0329-43fd-b09f-9e7985c2d0fb');\nvar x = new MutationObserver(function (mutations, observer) {{\n        var display = window.getComputedStyle(gd).display;\n        if (!display || display === 'none') {{\n            console.log([gd, 'removed!']);\n            Plotly.purge(gd);\n            observer.disconnect();\n        }}\n}});\n\n// Listen for the removal of the full notebook cells\nvar notebookContainer = gd.closest('#notebook-container');\nif (notebookContainer) {{\n    x.observe(notebookContainer, {childList: true});\n}}\n\n// Listen for the clearing of the current output cell\nvar outputEl = gd.closest('.output');\nif (outputEl) {{\n    x.observe(outputEl, {childList: true});\n}}\n\n                        })                };                });            </script>        </div>"
     },
     "metadata": {},
     "output_type": "display_data"
    }
   ],
   "source": [
    "fig = go.Figure()\n",
    "\n",
    "# Add traces\n",
    "fig.add_trace(go.Scatter(x=stations[:,0], y=stations[:,1],\n",
    "                    mode='markers',\n",
    "                    name='stations'))\n",
    "fig.add_trace(go.Scatter(x=plane_route[:,0], y=plane_route[:,1],\n",
    "                    mode='lines',\n",
    "                    name='route'))\n",
    "fig.add_trace(go.Scatter(x=path[:,0], y=path[:,1],\n",
    "                    mode='lines',\n",
    "                    name='meteo'))\n",
    "fig.add_trace(go.Scatter(x=strategics_np[:,0], y=strategics_np[:,1],\n",
    "                    mode='lines',\n",
    "                    name='strategics'))\n"
   ],
   "metadata": {
    "collapsed": false,
    "pycharm": {
     "name": "#%%\n"
    }
   }
  }
 ],
 "metadata": {
  "kernelspec": {
   "display_name": "Python 3",
   "language": "python",
   "name": "python3"
  },
  "language_info": {
   "codemirror_mode": {
    "name": "ipython",
    "version": 2
   },
   "file_extension": ".py",
   "mimetype": "text/x-python",
   "name": "python",
   "nbconvert_exporter": "python",
   "pygments_lexer": "ipython2",
   "version": "2.7.6"
  }
 },
 "nbformat": 4,
 "nbformat_minor": 0
}